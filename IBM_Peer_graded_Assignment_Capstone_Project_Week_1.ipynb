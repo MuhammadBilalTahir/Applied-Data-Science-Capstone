{
  "nbformat": 4,
  "nbformat_minor": 0,
  "metadata": {
    "colab": {
      "name": "IBM Peer-graded Assignment: Capstone Project Week 1.ipynb",
      "provenance": [],
      "collapsed_sections": []
    },
    "kernelspec": {
      "name": "python3",
      "display_name": "Python 3"
    }
  },
  "cells": [
    {
      "cell_type": "markdown",
      "metadata": {
        "id": "g1qNVknKww3Z"
      },
      "source": [
        "# **Applied Data Science Capstone**\r\n",
        "**Peer-graded Assignment: Capstone Project**\r\n",
        "\r\n",
        "**Week 1 Notebook**"
      ]
    },
    {
      "cell_type": "code",
      "metadata": {
        "id": "_bB9zZHRxThg"
      },
      "source": [
        "import pandas as pd\r\n",
        "import numpy as np"
      ],
      "execution_count": 1,
      "outputs": []
    },
    {
      "cell_type": "code",
      "metadata": {
        "colab": {
          "base_uri": "https://localhost:8080/"
        },
        "id": "vA4GX4XHxY9Q",
        "outputId": "4d4b59c4-2c11-4828-c2d6-144056cc6641"
      },
      "source": [
        "print(\"Hello Capstone Project Course!\")"
      ],
      "execution_count": 2,
      "outputs": [
        {
          "output_type": "stream",
          "text": [
            "Hello Capstone Project Course!\n"
          ],
          "name": "stdout"
        }
      ]
    }
  ]
}